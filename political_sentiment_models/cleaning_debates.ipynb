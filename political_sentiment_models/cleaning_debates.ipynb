{
 "cells": [
  {
   "cell_type": "code",
   "execution_count": 105,
   "metadata": {},
   "outputs": [],
   "source": [
    "import pandas as pd\n",
    "import os"
   ]
  },
  {
   "cell_type": "code",
   "execution_count": 106,
   "metadata": {},
   "outputs": [],
   "source": [
    "import re\n",
    "\n",
    "LINE_LENGTH_THRESHOLD = 7\n",
    "DEM_DIR = os.path.join(os.getcwd(), 'raw_debate_texts', 'democrat_debates')\n",
    "REPUB_DIR = os.path.join(os.getcwd(), 'raw_debate_texts', 'republican_debates')\n",
    "\n",
    "def process_file(file_path):\n",
    "    with open(file_path, 'r') as f:\n",
    "        matching_participants = matching_moderators = False\n",
    "        participants = []\n",
    "        sizable_responses = []\n",
    "        for index, line in enumerate(f):\n",
    "            if 'PARTICIPANTS' in line:\n",
    "                matching_participants = True\n",
    "            elif 'MODERATORS' in line:\n",
    "                matching_participants = False\n",
    "                matching_moderators = True\n",
    "            elif matching_participants:\n",
    "                participants.append(line.lower())\n",
    "            else:\n",
    "                for p in participants:\n",
    "                    if len(line) < 2:\n",
    "                        continue\n",
    "                    tokenized_statement = line.split()\n",
    "                    name_tag = tokenized_statement[0][:-1].lower()\n",
    "                    if name_tag in p:\n",
    "                        if len(tokenized_statement) < LINE_LENGTH_THRESHOLD:\n",
    "                            break\n",
    "                        sizable_responses.append(' '.join(tokenized_statement[1:]))\n",
    "                        break\n",
    "        return sizable_responses\n",
    "\n",
    "lib_texts = []\n",
    "for filename in os.listdir(DEM_DIR):\n",
    "        lib_texts += process_file(os.path.join(DEM_DIR, filename))\n",
    "\n",
    "repub_texts = []\n",
    "for filename in os.listdir(REPUB_DIR):\n",
    "        repub_texts += process_file(os.path.join(REPUB_DIR, filename))"
   ]
  },
  {
   "cell_type": "code",
   "execution_count": 107,
   "metadata": {},
   "outputs": [],
   "source": [
    "PROCESSED_DEBATE_FILE = os.path.join(os.getcwd(), 'processed_debate_texts', 'debates.csv')\n",
    "\n",
    "with open(PROCESSED_DEBATE_FILE, 'w') as f:\n",
    "    f.write('\"text\";\"label\"\\n')\n",
    "    for text in lib_texts:\n",
    "        f.write('\"{}\"; {}\\n'.format(text, 1))\n",
    "    for text in repub_texts:\n",
    "        f.write('\"{}\"; {}\\n'.format(text, 0))"
   ]
  },
  {
   "cell_type": "code",
   "execution_count": 101,
   "metadata": {},
   "outputs": [
    {
     "name": "stderr",
     "output_type": "stream",
     "text": [
      "b'Skipping line 241: expected 2 fields, saw 3\\nSkipping line 2990: expected 2 fields, saw 3\\nSkipping line 3645: expected 2 fields, saw 3\\nSkipping line 3764: expected 2 fields, saw 3\\nSkipping line 3784: expected 2 fields, saw 5\\nSkipping line 4353: expected 2 fields, saw 3\\nSkipping line 4981: expected 2 fields, saw 4\\nSkipping line 5411: expected 2 fields, saw 3\\n'\n"
     ]
    }
   ],
   "source": [
    "df = pd.read_csv(os.path.join(os.getcwd(), 'processed_debate_texts', 'debates.csv'), sep=\";\", error_bad_lines=False)"
   ]
  },
  {
   "cell_type": "code",
   "execution_count": 102,
   "metadata": {},
   "outputs": [
    {
     "data": {
      "text/html": [
       "<div>\n",
       "<style scoped>\n",
       "    .dataframe tbody tr th:only-of-type {\n",
       "        vertical-align: middle;\n",
       "    }\n",
       "\n",
       "    .dataframe tbody tr th {\n",
       "        vertical-align: top;\n",
       "    }\n",
       "\n",
       "    .dataframe thead th {\n",
       "        text-align: right;\n",
       "    }\n",
       "</style>\n",
       "<table border=\"1\" class=\"dataframe\">\n",
       "  <thead>\n",
       "    <tr style=\"text-align: right;\">\n",
       "      <th></th>\n",
       "      <th>text</th>\n",
       "      <th>label</th>\n",
       "    </tr>\n",
       "  </thead>\n",
       "  <tbody>\n",
       "    <tr>\n",
       "      <th>0</th>\n",
       "      <td>(Cheers, applause.) Well, thank you, Wolf. Tha...</td>\n",
       "      <td>1</td>\n",
       "    </tr>\n",
       "    <tr>\n",
       "      <th>1</th>\n",
       "      <td>also want to note something that you noted at ...</td>\n",
       "      <td>1</td>\n",
       "    </tr>\n",
       "    <tr>\n",
       "      <th>2</th>\n",
       "      <td>also want to note that I was friends with Hill...</td>\n",
       "      <td>1</td>\n",
       "    </tr>\n",
       "    <tr>\n",
       "      <th>3</th>\n",
       "      <td>believe we're at a defining moment in our hist...</td>\n",
       "      <td>1</td>\n",
       "    </tr>\n",
       "    <tr>\n",
       "      <th>4</th>\n",
       "      <td>don't think the choice is between black and wh...</td>\n",
       "      <td>1</td>\n",
       "    </tr>\n",
       "  </tbody>\n",
       "</table>\n",
       "</div>"
      ],
      "text/plain": [
       "                                                text  label\n",
       "0  (Cheers, applause.) Well, thank you, Wolf. Tha...      1\n",
       "1  also want to note something that you noted at ...      1\n",
       "2  also want to note that I was friends with Hill...      1\n",
       "3  believe we're at a defining moment in our hist...      1\n",
       "4  don't think the choice is between black and wh...      1"
      ]
     },
     "execution_count": 102,
     "metadata": {},
     "output_type": "execute_result"
    }
   ],
   "source": [
    "df.head()"
   ]
  },
  {
   "cell_type": "code",
   "execution_count": 103,
   "metadata": {},
   "outputs": [],
   "source": [
    "df.dropna(axis=0, how='any', inplace=True)\n",
    "df.drop_duplicates(inplace=True, keep='first')"
   ]
  },
  {
   "cell_type": "code",
   "execution_count": 104,
   "metadata": {},
   "outputs": [
    {
     "ename": "SyntaxError",
     "evalue": "invalid syntax (<ipython-input-104-448752f4ae2a>, line 2)",
     "output_type": "error",
     "traceback": [
      "\u001b[0;36m  File \u001b[0;32m\"<ipython-input-104-448752f4ae2a>\"\u001b[0;36m, line \u001b[0;32m2\u001b[0m\n\u001b[0;31m    print(max)_r\u001b[0m\n\u001b[0m               ^\u001b[0m\n\u001b[0;31mSyntaxError\u001b[0m\u001b[0;31m:\u001b[0m invalid syntax\n"
     ]
    }
   ],
   "source": [
    "max_rows = max(df.label.value_counts())\n",
    "print(max)"
   ]
  },
  {
   "cell_type": "code",
   "execution_count": null,
   "metadata": {},
   "outputs": [],
   "source": []
  }
 ],
 "metadata": {
  "kernelspec": {
   "display_name": "tue",
   "language": "python",
   "name": "tue"
  },
  "language_info": {
   "codemirror_mode": {
    "name": "ipython",
    "version": 3
   },
   "file_extension": ".py",
   "mimetype": "text/x-python",
   "name": "python",
   "nbconvert_exporter": "python",
   "pygments_lexer": "ipython3",
   "version": "3.6.5"
  }
 },
 "nbformat": 4,
 "nbformat_minor": 2
}
